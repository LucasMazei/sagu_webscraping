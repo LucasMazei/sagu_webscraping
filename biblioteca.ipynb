{
 "cells": [
  {
   "cell_type": "code",
   "execution_count": 29,
   "metadata": {},
   "outputs": [],
   "source": [
    "import time\n",
    "from selenium import webdriver\n",
    "from selenium.webdriver.firefox.options import Options\n",
    "import pandas as pd\n",
    "from bs4 import BeautifulSoup\n",
    "import json\n",
    "from selenium.common.exceptions import NoSuchElementException\n",
    "from IPython.display import clear_output\n",
    "\n",
    "url = \"http://biblioteca.unemat.br/\"\n",
    "\n",
    "def biblioteca(consulta=True):\n",
    "\n",
    "    option = Options()\n",
    "    option.headless = True\n",
    "    driver = webdriver.Firefox(options=option)\n",
    "\n",
    "    driver.get(url)\n",
    "    print(\"Waiting for connection: \", end=\"\")\n",
    "\n",
    "    login = str(input(\"Digite seu login: \"))\n",
    "    password = str(input(\"Digite sua senha: \"))  \n",
    "\n",
    "    driver.find_element_by_id(\"personIdUpper\").send_keys(login)\n",
    "    driver.find_element_by_id(\"passwordUpper\").send_keys(password)\n",
    "    print(\"Fazendo login...\")\n",
    "    for i in range(10):\n",
    "        try:\n",
    "            driver.find_element_by_id(\"btnLoginUpper\").click()\n",
    "            break\n",
    "        except NoSuchElementException as e:\n",
    "            if i == 9:\n",
    "                print(f\"Tentativa {i+1}/10\")\n",
    "            else:\n",
    "                print(f\"Tentativa {i+1}/10, tentando novamente em 1s\")\n",
    "            time.sleep(1)\n",
    "    print(\"Mudando para renovação...\")\n",
    "    for i in range(10):\n",
    "        try:\n",
    "            driver.find_element_by_id(\"mlink1649\").click()\n",
    "            break\n",
    "        except NoSuchElementException as e:\n",
    "            if i == 9:\n",
    "                print(f\"Tentativa {i+1}/10\")\n",
    "            else:\n",
    "                print(f\"Tentativa {i+1}/10, tentando novamente em 1s\")\n",
    "            time.sleep(1)\n",
    "\n",
    "    print(\"Lendo tabelas...\")\n",
    "    for i in range(10):\n",
    "        try:\n",
    "            element = driver.find_element_by_id(\"searchFields\")\n",
    "            html_content = element.get_attribute(\"outerHTML\")\n",
    "            soup = BeautifulSoup(html_content, 'html.parser')\n",
    "            table = soup.find(name='table')\n",
    "            df_full = pd.read_html(str(table))[0]\n",
    "            break\n",
    "        except ValueError as e:\n",
    "            if i == 9:\n",
    "                print(f\"Tentativa {i+1}/10\")\n",
    "            else:\n",
    "                print(f\"Tentativa {i+1}/10, tentando novamente em 1s\")\n",
    "            time.sleep(1)\n",
    "    opt = list(df_full.Dados)\n",
    "    datas = list(df_full[\"Data prevista da devolução\"])\n",
    "    options = []\n",
    "    for index, option in enumerate(opt):\n",
    "        titulo = option.split(\"Título:\")[1].split(\"Autor:\")[0]\n",
    "        autor = option.split(\"Autor:\")[1].split(\"Classificação\")[0]\n",
    "        data = datas[0]\n",
    "        options.append([index, titulo, autor, data])\n",
    "    clear_output(wait=True)\n",
    "    print(\"Empréstimos:\")\n",
    "    if not consulta:\n",
    "        print(\"0: Todos\\n\")\n",
    "    for option in options:\n",
    "        print(f\"{option[0]+1}: {option[1]} por {option[2]} - Entregar até {option[3]}\")\n",
    "    if consulta:\n",
    "        return \"Nada a fazer\"\n",
    "    print(f\"\\n{index+2}: Nenhum\")\n",
    "    escolha = int(input(\"Escolha para renovar: \"))\n",
    "    if escolha == index+2:\n",
    "        return \"Nada a fazer\"\n",
    "    driver.find_elements_by_class_name(\"mCheckboxGroup\")[escolha].click()\n",
    "    driver.find_elements_by_id(\"btnFinalize\")\n",
    "    \n",
    "    driver.quit()\n",
    "    \n",
    "    return(\"Feito\")"
   ]
  },
  {
   "cell_type": "code",
   "execution_count": 30,
   "metadata": {},
   "outputs": [
    {
     "name": "stdout",
     "output_type": "stream",
     "text": [
      "Empréstimos:\n",
      "1:  Processamento de imagens digitais  por  Gonzalez, Rafael C.  - Entregar até 12/03/2020\n",
      "2:  Comunicações sem fio : principios e práticas  por  Rappaport, Theodore S.  - Entregar até 12/03/2020\n"
     ]
    },
    {
     "data": {
      "text/plain": [
       "'Nada a fazer'"
      ]
     },
     "execution_count": 30,
     "metadata": {},
     "output_type": "execute_result"
    }
   ],
   "source": [
    "biblioteca()"
   ]
  }
 ],
 "metadata": {
  "kernelspec": {
   "display_name": "Python 3.7.6 64-bit",
   "language": "python",
   "name": "python37664bit198c621bed48447c85643c6ee597d5ce"
  },
  "language_info": {
   "codemirror_mode": {
    "name": "ipython",
    "version": 3
   },
   "file_extension": ".py",
   "mimetype": "text/x-python",
   "name": "python",
   "nbconvert_exporter": "python",
   "pygments_lexer": "ipython3",
   "version": "3.7.6"
  }
 },
 "nbformat": 4,
 "nbformat_minor": 4
}
